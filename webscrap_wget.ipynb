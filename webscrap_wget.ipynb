{
 "cells": [
  {
   "cell_type": "markdown",
   "id": "364ef63b-1cc6-4fa4-b4f5-5199554f3916",
   "metadata": {},
   "source": [
    "In this notebook, we will be learning about the basic techniques of web scraping and data extraction using Python. More specifically, we'll be targeting SVG badges that are used in README files on GitHub.\n",
    "\n",
    "There are occasions when external image links or badges might become inaccessible due to various reasons. It's always a good practice to host the necessary files within our own repository to ensure longevity and accessibility. Hence, we'll be scraping badges from an external `README` and downloading them so that they can be hosted internally.\n",
    "\n",
    "Let's get started!\n"
   ]
  },
  {
   "cell_type": "markdown",
   "id": "30e80029-ceec-46ef-af63-fde77b8e8e56",
   "metadata": {
    "tags": []
   },
   "source": [
    "**Import Necessary Libraries**\n",
    "\n",
    "- `os`: This module provides a portable way of using operating system-dependent functionality like reading or writing to the file system.\n",
    "- `requests`: Allows us to send HTTP requests using Python. We'll use this to fetch the content of web pages.\n",
    "- `BeautifulSoup`: A library for pulling data out of HTML and XML files. Helps in web scraping tasks."
   ]
  },
  {
   "cell_type": "code",
   "execution_count": 43,
   "id": "5cf7bfe7-7165-4f35-b6cd-6111687f0582",
   "metadata": {
    "tags": []
   },
   "outputs": [],
   "source": [
    "import os\n",
    "import requests\n",
    "from bs4 import BeautifulSoup"
   ]
  },
  {
   "cell_type": "markdown",
   "id": "5f998b51-36f7-4ccd-872b-384faff8fd78",
   "metadata": {},
   "source": [
    "**Load the README file**\n",
    "\n",
    "Here, we'll read the content of the `README_external_badges.md` file, which contains the badges we aim to scrape and download."
   ]
  },
  {
   "cell_type": "code",
   "execution_count": 54,
   "id": "fa14d18b-9412-4859-aebd-ed5ce8baf2b1",
   "metadata": {
    "tags": []
   },
   "outputs": [],
   "source": [
    "readme = open(\"README_external_badges.md\", mode='r', encoding='utf8')\n",
    "lines = readme.readlines()\n",
    "readme.close()\n",
    "\n",
    "soup = \"\".join(lines)\n",
    "# print(soup)"
   ]
  },
  {
   "cell_type": "markdown",
   "id": "b6e82248-2ad3-4e88-9d6b-0436c2b5ebcb",
   "metadata": {},
   "source": [
    "**Parse the README Content**\n",
    "\n",
    "Transform the raw README content into a structured `BeautifulSoup` object to make extraction tasks easier.\n"
   ]
  },
  {
   "cell_type": "code",
   "execution_count": 55,
   "id": "d50c63e9-c975-46c1-928f-701cdf175b8b",
   "metadata": {
    "collapsed": true,
    "jupyter": {
     "outputs_hidden": true
    },
    "tags": []
   },
   "outputs": [
    {
     "data": {
      "text/plain": [
       "<!DOCTYPE html>\n",
       "\n",
       "<html>\n",
       "<head>\n",
       "</head>\n",
       "<body>\n",
       "<h1>Welcome to Our GitHub Profile! 👋</h1>\n",
       "<div align=\"center\">\n",
       "<img src=\"https://user-images.githubusercontent.com/74038190/235224431-e8c8c12e-6826-47f1-89fb-2ddad83b3abf.gif\" width=\"300\"/>\n",
       "</div>\n",
       "<h2>Who We Are</h2>\n",
       "<p>Hello! We are <strong>Hit the Code Labs</strong>, a tech company specializing in data science and process automation solutions. We pride ourselves on delivering cutting-edge solutions that span from academia to industry, utilizing the latest technologies and methodologies. 🛠️📊</p>\n",
       "<h2>Expertise</h2>\n",
       "<h3>Academic Area</h3>\n",
       "<ul>\n",
       "<li><strong>Thesis &amp; Papers</strong>: Prolific in contributing academic content and research.</li>\n",
       "<li><strong>Artificial Intelligence Projects</strong>: Specializing in both undergraduate and postgraduate AI implementations.</li>\n",
       "<li><strong>Computer Vision in Medicine</strong>: Leveraging computer vision technologies for medical applications.</li>\n",
       "<li><strong>Blockchain</strong>: Focused on supply chain applications as MVP (Minimum Viable Product).</li>\n",
       "<li><strong>Financial Analysis</strong>: Projects involving TIR, VAR, etc., primarily implemented in Django for digital transformation in businesses.</li>\n",
       "</ul>\n",
       "<h3>Commercial &amp; Industrial Area</h3>\n",
       "<ul>\n",
       "<li><strong>Supply Chain &amp; Logistics</strong>: Utilizing blockchain technology to optimize supply chain processes.</li>\n",
       "<li><strong>Acquaculture</strong>: Using AI to estimate shrimp survival rates across various farms nationwide.</li>\n",
       "<li><strong>Defi (Decentralized Finance)</strong>: Utilizing neural networks to predict asset trends from limit order books with bid and ask values.</li>\n",
       "<li><strong>Retail</strong>: Developed a local/export-type banana classifier using Raspberry Pi, currently under industry testing.</li>\n",
       "</ul>\n",
       "<h3>Cross-Domain Expertise</h3>\n",
       "<ul>\n",
       "<li><strong>Web Development</strong>: Built and deployed websites using Django on Google Cloud Platform's App Engine.</li>\n",
       "<li><strong>Natural Language Processing</strong>: Built an e-commerce virtual assistant for personalized order and recommendations.</li>\n",
       "<li><strong>Healthcare</strong>: Designed systems for the classification of various pulmonary diseases and tumor types.</li>\n",
       "</ul>\n",
       "<h2>Open Source Contributions</h2>\n",
       "<p>I believe in the power of collaborative learning and open-source development. Feel free to check out some of my repositories that feature some of these projects. Contributions are always welcome!</p>\n",
       "<h2>Technologies &amp; Tools</h2>\n",
       "<!-- Programming Languages -->\n",
       "<h3 align=\"center\">Programming Languages</h3>\n",
       "<div align=\"center\" class=\"badge-container\">\n",
       "<img alt=\"Python\" src=\"https://img.shields.io/badge/python-3670A0?style=for-the-badge&amp;logo=python&amp;logoColor=ffdd54\"/>\n",
       "<img alt=\"JavaScript\" src=\"https://img.shields.io/badge/javascript-%23323330.svg?style=for-the-badge&amp;logo=javascript&amp;logoColor=%23F7DF1E\"/>\n",
       "<img alt=\"PHP\" src=\"https://img.shields.io/badge/php-%23777BB4.svg?style=for-the-badge&amp;logo=php&amp;logoColor=white\"/>\n",
       "<img alt=\"R\" src=\"https://img.shields.io/badge/r-%23276DC3.svg?style=for-the-badge&amp;logo=r&amp;logoColor=white\"/>\n",
       "<img alt=\"TypeScript\" src=\"https://img.shields.io/badge/typescript-%23007ACC.svg?style=for-the-badge&amp;logo=typescript&amp;logoColor=white\"/>\n",
       "</div>\n",
       "<!-- Data Science & Analytics -->\n",
       "<h3 align=\"center\">Data Science &amp; Analytics</h3>\n",
       "<div align=\"center\" class=\"badge-container\">\n",
       "<img alt=\"Google Colab\" src=\"https://img.shields.io/badge/Colab-F9AB00?style=for-the-badge&amp;logo=googlecolab&amp;color=525252\"/>\n",
       "<img alt=\"Kaggle\" src=\"https://img.shields.io/badge/Kaggle-035a7d.svg?style=for-the-badge&amp;logo=kaggle&amp;logoColor=white\"/>\n",
       "<img alt=\"Apache Spark\" src=\"https://img.shields.io/badge/Apache%20Spark-FDEE21.svg?style=for-the-badge&amp;logo=apachespark&amp;logoColor=black\"/>\n",
       "<img alt=\"NumPy\" src=\"https://img.shields.io/badge/numpy-%23013243.svg?style=for-the-badge&amp;logo=numpy&amp;logoColor=white\"/>\n",
       "<img alt=\"Pandas\" src=\"https://img.shields.io/badge/pandas-%23150458.svg?style=for-the-badge&amp;logo=pandas&amp;logoColor=white\"/>\n",
       "<img alt=\"Matplotlib\" src=\"https://img.shields.io/badge/Matplotlib-%23ffffff.svg?style=for-the-badge&amp;logo=Matplotlib&amp;logoColor=black\"/>\n",
       "<img alt=\"Plotly\" src=\"https://img.shields.io/badge/Plotly-%233F4F75.svg?style=for-the-badge&amp;logo=plotly&amp;logoColor=white\"/>\n",
       "<img alt=\"SciPy\" src=\"https://img.shields.io/badge/SciPy-%230C55A5.svg?style=for-the-badge&amp;logo=scipy&amp;logoColor=%white\"/>\n",
       "</div>\n",
       "<!-- Machine Learning & AI -->\n",
       "<h3 align=\"center\">Machine Learning &amp; AI</h3>\n",
       "<div align=\"center\" class=\"badge-container\">\n",
       "<img alt=\"TensorFlow\" src=\"https://img.shields.io/badge/TensorFlow-%23FF6F00.svg?style=for-the-badge&amp;logo=TensorFlow&amp;logoColor=white\"/>\n",
       "<img alt=\"Keras\" src=\"https://img.shields.io/badge/Keras-%23D00000.svg?style=for-the-badge&amp;logo=Keras&amp;logoColor=white\"/>\n",
       "<img alt=\"PyTorch\" src=\"https://img.shields.io/badge/PyTorch-%23EE4C2C.svg?style=for-the-badge&amp;logo=PyTorch&amp;logoColor=white\"/>\n",
       "<img alt=\"scikit-learn\" src=\"https://img.shields.io/badge/scikit--learn-%23F7931E.svg?style=for-the-badge&amp;logo=scikit-learn&amp;logoColor=white\"/>\n",
       "<img alt=\"OpenCV\" src=\"https://img.shields.io/badge/opencv-%23white.svg?style=for-the-badge&amp;logo=opencv&amp;logoColor=white\"/>\n",
       "<img alt=\"Raspberry Pi\" src=\"https://img.shields.io/badge/-RaspberryPi-C51A4A?style=for-the-badge&amp;logo=Raspberry-Pi\"/>\n",
       "</div>\n",
       "<!-- Web Development -->\n",
       "<h3 align=\"center\">Web Development</h3>\n",
       "<div align=\"center\" class=\"badge-container\">\n",
       "<img alt=\"HTML5\" src=\"https://img.shields.io/badge/html5-%23E34F26.svg?style=for-the-badge&amp;logo=html5&amp;logoColor=white\"/>\n",
       "<img alt=\"CSS3\" src=\"https://img.shields.io/badge/css3-%231572B6.svg?style=for-the-badge&amp;logo=css3&amp;logoColor=white\"/>\n",
       "<img alt=\"Bootstrap\" src=\"https://img.shields.io/badge/bootstrap-%238511FA.svg?style=for-the-badge&amp;logo=bootstrap&amp;logoColor=white\"/>\n",
       "<img alt=\"Django\" src=\"https://img.shields.io/badge/django-%23092E20.svg?style=for-the-badge&amp;logo=django&amp;logoColor=white\"/>\n",
       "<img alt=\"Flask\" src=\"https://img.shields.io/badge/flask-%23000.svg?style=for-the-badge&amp;logo=flask&amp;logoColor=white\"/>\n",
       "<img alt=\"Vue.js\" src=\"https://img.shields.io/badge/vue.js-%2335495e.svg?style=for-the-badge&amp;logo=vuedotjs&amp;logoColor=%234FC08D\"/>\n",
       "<img alt=\"React\" src=\"https://img.shields.io/badge/react-%2320232a.svg?style=for-the-badge&amp;logo=react&amp;logoColor=%2361DAFB\"/>\n",
       "<img alt=\"Chart.js\" src=\"https://img.shields.io/badge/chart.js-F5788D.svg?style=for-the-badge&amp;logo=chart.js&amp;logoColor=white\"/>\n",
       "<img alt=\"NPM\" src=\"https://img.shields.io/badge/NPM-%23CB3837.svg?style=for-the-badge&amp;logo=npm&amp;logoColor=white\"/>\n",
       "<img alt=\"Node.js\" src=\"https://img.shields.io/badge/node.js-6DA55F.svg?style=for-the-badge&amp;logo=node.js&amp;logoColor=white\"/>\n",
       "</div>\n",
       "<!-- DevOps & Cloud -->\n",
       "<h3 align=\"center\">DevOps &amp; Cloud</h3>\n",
       "<div align=\"center\" class=\"badge-container\">\n",
       "<img alt=\"Docker\" src=\"https://img.shields.io/badge/docker-%230db7ed.svg?style=for-the-badge&amp;logo=docker&amp;logoColor=white\"/>\n",
       "<img alt=\"Kubernetes\" src=\"https://img.shields.io/badge/kubernetes-%23326ce5.svg?style=for-the-badge&amp;logo=kubernetes&amp;logoColor=white\"/>\n",
       "<img alt=\"Google Cloud\" src=\"https://img.shields.io/badge/GoogleCloud-%234285F4.svg?style=for-the-badge&amp;logo=google-cloud&amp;logoColor=white\"/>\n",
       "<img alt=\"Nginx\" src=\"https://img.shields.io/badge/nginx-%23009639.svg?style=for-the-badge&amp;logo=nginx&amp;logoColor=white\"/>\n",
       "</div>\n",
       "<!-- Databases -->\n",
       "<h3 align=\"center\">Databases</h3>\n",
       "<div align=\"center\" class=\"badge-container\">\n",
       "<img alt=\"MySQL\" src=\"https://img.shields.io/badge/mysql-%2300000f.svg?style=for-the-badge&amp;logo=mysql&amp;logoColor=white\"/>\n",
       "<img alt=\"Postgres\" src=\"https://img.shields.io/badge/postgres-%23316192.svg?style=for-the-badge&amp;logo=postgresql&amp;logoColor=white\"/>\n",
       "</div>\n",
       "<!-- Version Control -->\n",
       "<h3 align=\"center\">Version Control</h3>\n",
       "<div align=\"center\" class=\"badge-container\">\n",
       "<img alt=\"Git\" src=\"https://img.shields.io/badge/git-%23F05033.svg?style=for-the-badge&amp;logo=git&amp;logoColor=white\"/>\n",
       "<img alt=\"GitHub\" src=\"https://img.shields.io/badge/github-%23121011.svg?style=for-the-badge&amp;logo=github&amp;logoColor=white\"/>\n",
       "</div>\n",
       "<!-- Blockchain & Cryptocurrency -->\n",
       "<h3 align=\"center\">Blockchain &amp; Cryptocurrency</h3>\n",
       "<div align=\"center\" class=\"badge-container\">\n",
       "<img alt=\"Solidity\" src=\"https://img.shields.io/badge/Solidity-%23363636.svg?style=for-the-badge&amp;logo=solidity&amp;logoColor=white\"/>\n",
       "<img alt=\"Web3.js\" src=\"https://img.shields.io/badge/web3.js-F16822.svg?style=for-the-badge&amp;logo=web3.js&amp;logoColor=white\"/>\n",
       "<img alt=\"Bitcoin\" src=\"https://img.shields.io/badge/Bitcoin-000.svg?style=for-the-badge&amp;logo=bitcoin&amp;logoColor=white\"/>\n",
       "<img alt=\"Ethereum\" src=\"https://img.shields.io/badge/Ethereum-3C3C3D.svg?style=for-the-badge&amp;logo=Ethereum&amp;logoColor=white\"/>\n",
       "<img alt=\"Tether\" src=\"https://img.shields.io/badge/tether-168363.svg?style=for-the-badge&amp;logo=tether&amp;logoColor=white\"/>\n",
       "</div>\n",
       "<!-- Social Media & Communication -->\n",
       "<h3 align=\"center\">Social Media &amp; Communication</h3>\n",
       "<div align=\"center\" class=\"badge-container\">\n",
       "<img alt=\"LinkedIn\" src=\"https://img.shields.io/badge/linkedin-%230077B5.svg?style=for-the-badge&amp;logo=linkedin&amp;logoColor=white\"/>\n",
       "<img alt=\"Telegram\" src=\"https://img.shields.io/badge/Telegram-2CA5E0?style=for-the-badge&amp;logo=telegram&amp;logoColor=white\"/>\n",
       "</div>\n",
       "<!-- Editors & IDEs -->\n",
       "<h3 align=\"center\">Editors &amp; IDEs</h3>\n",
       "<div align=\"center\" class=\"badge-container\">\n",
       "<img alt=\"Anaconda\" src=\"https://img.shields.io/badge/Anaconda-%2344A833.svg?style=for-the-badge&amp;logo=anaconda&amp;logoColor=white\"/>\n",
       "<img alt=\"Jupyter Notebook\" src=\"https://img.shields.io/badge/jupyter-%23FA0F00.svg?style=for-the-badge&amp;logo=jupyter&amp;logoColor=white\"/>\n",
       "<img alt=\"Notepad++\" src=\"https://img.shields.io/badge/Notepad++-90E59A.svg?style=for-the-badge&amp;logo=notepad%2b%2b&amp;logoColor=black\"/>\n",
       "<img alt=\"PyCharm\" src=\"https://img.shields.io/badge/pycharm-143?style=for-the-badge&amp;logo=pycharm&amp;logoColor=black&amp;color=black&amp;labelColor=green\"/>\n",
       "<img alt=\"RStudio\" src=\"https://img.shields.io/badge/RStudio-4285F4?style=for-the-badge&amp;logo=rstudio&amp;logoColor=white\"/>\n",
       "<img alt=\"Replit\" src=\"https://img.shields.io/badge/Replit-DD1200?style=for-the-badge&amp;logo=Replit&amp;logoColor=white\"/>\n",
       "</div>\n",
       "<!-- Other Tools & Platforms -->\n",
       "<h3 align=\"center\">Other Tools &amp; Platforms</h3>\n",
       "<div align=\"center\" class=\"badge-container\">\n",
       "<img alt=\"Notion\" src=\"https://img.shields.io/badge/Notion-%23000000.svg?style=for-the-badge&amp;logo=notion&amp;logoColor=white\"/>\n",
       "<img alt=\"GeeksForGeeks\" src=\"https://img.shields.io/badge/GeeksforGeeks-gray?style=for-the-badge&amp;logo=geeksforgeeks&amp;logoColor=35914c\"/>\n",
       "<img alt=\"edX\" src=\"https://img.shields.io/badge/edX-%2302262B.svg?style=for-the-badge&amp;logo=edX&amp;logoColor=white\"/>\n",
       "<img alt=\"Google\" src=\"https://img.shields.io/badge/google-4285F4?style=for-the-badge&amp;logo=google&amp;logoColor=white\"/>\n",
       "<img alt=\"Gunicorn\" src=\"https://img.shields.io/badge/gunicorn-%298729.svg?style=for-the-badge&amp;logo=gunicorn&amp;logoColor=white\"/>\n",
       "<img alt=\"LaTeX\" src=\"https://img.shields.io/badge/latex-%23008080.svg?style=for-the-badge&amp;logo=latex&amp;logoColor=white\"/>\n",
       "<img alt=\"Linux\" src=\"https://img.shields.io/badge/Linux-FCC624?style=for-the-badge&amp;logo=linux&amp;logoColor=black\"/>\n",
       "<img alt=\"Markdown\" src=\"https://img.shields.io/badge/markdown-%23000000.svg?style=for-the-badge&amp;logo=markdown&amp;logoColor=white\"/>\n",
       "<img alt=\"Ubuntu\" src=\"https://img.shields.io/badge/Ubuntu-E95420?style=for-the-badge&amp;logo=ubuntu&amp;logoColor=white\"/>\n",
       "<img alt=\"Windows\" src=\"https://img.shields.io/badge/Windows-0078D6?style=for-the-badge&amp;logo=windows&amp;logoColor=white\"/>\n",
       "<!-- Add more badges here -->\n",
       "</div>\n",
       "<h2>Contact</h2>\n",
       "<p>For collaborations, consultations, or questions, you're welcome to <a href=\"mailto:jpaul@hitthecodelabs.com\">contact me</a>.</p>\n",
       "<h2>Hit the Code Labs</h2>\n",
       "<p>To know more about what we do at Hit the Code Labs, you can visit <a href=\"https://www.hitthecodelabs.com\">our website</a>.</p>\n",
       "<hr/>\n",
       "<p>Thank you for visiting our profile. Let's connect and build something amazing together! 🚀</p>\n",
       "<div align=\"center\">\n",
       "<img src=\"https://user-images.githubusercontent.com/74038190/213866269-5d00981c-7c98-46d7-8a8e-16f462f15227.gif\" width=\"200\">\n",
       "<img src=\"https://user-images.githubusercontent.com/74038190/213866269-5d00981c-7c98-46d7-8a8e-16f462f15227.gif\" width=\"200\">\n",
       "<img src=\"https://user-images.githubusercontent.com/74038190/213866269-5d00981c-7c98-46d7-8a8e-16f462f15227.gif\" width=\"200\">\n",
       "</img></img></img></div>\n",
       "</body>\n",
       "</html>"
      ]
     },
     "execution_count": 55,
     "metadata": {},
     "output_type": "execute_result"
    }
   ],
   "source": [
    "html = BeautifulSoup(soup, 'html.parser')\n",
    "html"
   ]
  },
  {
   "cell_type": "markdown",
   "id": "38124a8b-eddf-4c0f-8945-3979aa966b82",
   "metadata": {},
   "source": [
    "**Find All Image Tags**\n",
    "\n",
    "Extract all image (`<img>`) tags from the parsed content. These tags represent the badges or any other images in the README.\n"
   ]
  },
  {
   "cell_type": "code",
   "execution_count": 56,
   "id": "2cedcc5f-258f-4506-8627-94f9c6dd6ff6",
   "metadata": {
    "tags": []
   },
   "outputs": [
    {
     "data": {
      "text/plain": [
       "<img src=\"https://user-images.githubusercontent.com/74038190/235224431-e8c8c12e-6826-47f1-89fb-2ddad83b3abf.gif\" width=\"300\"/>"
      ]
     },
     "execution_count": 56,
     "metadata": {},
     "output_type": "execute_result"
    }
   ],
   "source": [
    "img_tags = html.find_all(\"img\")\n",
    "img_tags[0] ### shows the first img tag from the list"
   ]
  },
  {
   "cell_type": "markdown",
   "id": "68ab2d06-08e3-4b39-bb71-b069f044bf8b",
   "metadata": {},
   "source": [
    "**Filter and List URLs for Download**\n",
    "\n",
    "Go through the list of image tags, filter out any GIFs, and prepare a list of URLs that point to the badges we want to download.\n"
   ]
  },
  {
   "cell_type": "code",
   "execution_count": 57,
   "id": "211aa227-82ae-46ce-8e04-1620ff22d067",
   "metadata": {
    "collapsed": true,
    "jupyter": {
     "outputs_hidden": true
    },
    "tags": []
   },
   "outputs": [
    {
     "name": "stdout",
     "output_type": "stream",
     "text": [
      "https://img.shields.io/badge/python-3670A0\n",
      "https://img.shields.io/badge/javascript-%23323330.svg\n",
      "https://img.shields.io/badge/php-%23777BB4.svg\n",
      "https://img.shields.io/badge/r-%23276DC3.svg\n",
      "https://img.shields.io/badge/typescript-%23007ACC.svg\n",
      "https://img.shields.io/badge/Colab-F9AB00\n",
      "https://img.shields.io/badge/Kaggle-035a7d.svg\n",
      "https://img.shields.io/badge/Apache%20Spark-FDEE21.svg\n",
      "https://img.shields.io/badge/numpy-%23013243.svg\n",
      "https://img.shields.io/badge/pandas-%23150458.svg\n",
      "https://img.shields.io/badge/Matplotlib-%23ffffff.svg\n",
      "https://img.shields.io/badge/Plotly-%233F4F75.svg\n",
      "https://img.shields.io/badge/SciPy-%230C55A5.svg\n",
      "https://img.shields.io/badge/TensorFlow-%23FF6F00.svg\n",
      "https://img.shields.io/badge/Keras-%23D00000.svg\n",
      "https://img.shields.io/badge/PyTorch-%23EE4C2C.svg\n",
      "https://img.shields.io/badge/scikit--learn-%23F7931E.svg\n",
      "https://img.shields.io/badge/opencv-%23white.svg\n",
      "https://img.shields.io/badge/-RaspberryPi-C51A4A\n",
      "https://img.shields.io/badge/html5-%23E34F26.svg\n",
      "https://img.shields.io/badge/css3-%231572B6.svg\n",
      "https://img.shields.io/badge/bootstrap-%238511FA.svg\n",
      "https://img.shields.io/badge/django-%23092E20.svg\n",
      "https://img.shields.io/badge/flask-%23000.svg\n",
      "https://img.shields.io/badge/vue.js-%2335495e.svg\n",
      "https://img.shields.io/badge/react-%2320232a.svg\n",
      "https://img.shields.io/badge/chart.js-F5788D.svg\n",
      "https://img.shields.io/badge/NPM-%23CB3837.svg\n",
      "https://img.shields.io/badge/node.js-6DA55F.svg\n",
      "https://img.shields.io/badge/docker-%230db7ed.svg\n",
      "https://img.shields.io/badge/kubernetes-%23326ce5.svg\n",
      "https://img.shields.io/badge/GoogleCloud-%234285F4.svg\n",
      "https://img.shields.io/badge/nginx-%23009639.svg\n",
      "https://img.shields.io/badge/mysql-%2300000f.svg\n",
      "https://img.shields.io/badge/postgres-%23316192.svg\n",
      "https://img.shields.io/badge/git-%23F05033.svg\n",
      "https://img.shields.io/badge/github-%23121011.svg\n",
      "https://img.shields.io/badge/Solidity-%23363636.svg\n",
      "https://img.shields.io/badge/web3.js-F16822.svg\n",
      "https://img.shields.io/badge/Bitcoin-000.svg\n",
      "https://img.shields.io/badge/Ethereum-3C3C3D.svg\n",
      "https://img.shields.io/badge/tether-168363.svg\n",
      "https://img.shields.io/badge/linkedin-%230077B5.svg\n",
      "https://img.shields.io/badge/Telegram-2CA5E0\n",
      "https://img.shields.io/badge/Anaconda-%2344A833.svg\n",
      "https://img.shields.io/badge/jupyter-%23FA0F00.svg\n",
      "https://img.shields.io/badge/Notepad++-90E59A.svg\n",
      "https://img.shields.io/badge/pycharm-143\n",
      "https://img.shields.io/badge/RStudio-4285F4\n",
      "https://img.shields.io/badge/Replit-DD1200\n",
      "https://img.shields.io/badge/Notion-%23000000.svg\n",
      "https://img.shields.io/badge/GeeksforGeeks-gray\n",
      "https://img.shields.io/badge/edX-%2302262B.svg\n",
      "https://img.shields.io/badge/google-4285F4\n",
      "https://img.shields.io/badge/gunicorn-%298729.svg\n",
      "https://img.shields.io/badge/latex-%23008080.svg\n",
      "https://img.shields.io/badge/Linux-FCC624\n",
      "https://img.shields.io/badge/markdown-%23000000.svg\n",
      "https://img.shields.io/badge/Ubuntu-E95420\n",
      "https://img.shields.io/badge/Windows-0078D6\n"
     ]
    }
   ],
   "source": [
    "to_download = []\n",
    "\n",
    "for img in img_tags:\n",
    "    link = img['src']\n",
    "    # print(link)  # Uncomment to view individual URLs.\n",
    "    if \"gif\" not in link:\n",
    "        link_2 = link.split(\"?\")[0]\n",
    "        print(link_2)\n",
    "        to_download.append(link_2)"
   ]
  },
  {
   "cell_type": "markdown",
   "id": "819ceb34-cca3-4529-b1fc-6c7853c0614e",
   "metadata": {},
   "source": [
    "**Inspect the First Badge URL**\n",
    "\n",
    "Let's take a look at the first URL in our download list.\n"
   ]
  },
  {
   "cell_type": "code",
   "execution_count": 30,
   "id": "c73fb090-5b4a-42ad-8d3c-8ed15ca6db03",
   "metadata": {
    "tags": []
   },
   "outputs": [
    {
     "data": {
      "text/plain": [
       "'https://img.shields.io/badge/php-%23777BB4.svg'"
      ]
     },
     "execution_count": 30,
     "metadata": {},
     "output_type": "execute_result"
    }
   ],
   "source": [
    "### show the first url element\n",
    "to_download[0]"
   ]
  },
  {
   "cell_type": "markdown",
   "id": "4def682d-dd6f-4501-b1d9-26b1bb7d5b0c",
   "metadata": {},
   "source": [
    "**Define the Download Function**\n",
    "\n",
    "Here, we create a function `download_badges()` that:\n",
    "1. Takes a URL and an optional folder name as arguments.\n",
    "2. Downloads the SVG from the given URL.\n",
    "3. Saves the SVG into the specified folder (default is `\"badges\"`).\n"
   ]
  },
  {
   "cell_type": "code",
   "execution_count": 52,
   "id": "eca59bdc-09c2-44e7-8de7-2fcc21d81fc6",
   "metadata": {
    "tags": []
   },
   "outputs": [],
   "source": [
    "def download_badges(url, folder='badges'):\n",
    "    \n",
    "    os.makedirs(folder, exist_ok=True)\n",
    "    name_svg = url.split(\"/\")[-1].replace(\"/-\", \"/\").split(\"-\")[0].replace(\".\", \"\")\n",
    "    filename = f'{folder}/{name_svg}.svg'\n",
    "    response = requests.get(url)\n",
    "\n",
    "    # Ensure the request was successful\n",
    "    if response.status_code == 200:\n",
    "        # Write the image to a file\n",
    "        with open(filename, 'wb') as f:\n",
    "            f.write(response.content)\n",
    "        print(f\"Image: {filename} downloaded successfully!\")\n",
    "    else:\n",
    "        print(f\"Failed to download the image. HTTP status code: {response.status_code}\")"
   ]
  },
  {
   "cell_type": "markdown",
   "id": "3809ca56-ceb9-4fa0-a816-f6f470edc984",
   "metadata": {},
   "source": [
    "**Download All Badges**\n",
    "\n",
    "Use the `download_badges()` function to download all the SVG badges from the previously prepared list.\n"
   ]
  },
  {
   "cell_type": "code",
   "execution_count": 53,
   "id": "3220090a-ee11-42b8-8eec-8014e9e64ce0",
   "metadata": {
    "collapsed": true,
    "jupyter": {
     "outputs_hidden": true
    },
    "tags": []
   },
   "outputs": [
    {
     "name": "stdout",
     "output_type": "stream",
     "text": [
      "Image: badges/python.svg downloaded successfully!\n",
      "Image: badges/javascript.svg downloaded successfully!\n",
      "Image: badges/php.svg downloaded successfully!\n",
      "Image: badges/r.svg downloaded successfully!\n",
      "Image: badges/typescript.svg downloaded successfully!\n",
      "Image: badges/Colab.svg downloaded successfully!\n",
      "Image: badges/Kaggle.svg downloaded successfully!\n",
      "Image: badges/Apache%20Spark.svg downloaded successfully!\n",
      "Image: badges/numpy.svg downloaded successfully!\n",
      "Image: badges/pandas.svg downloaded successfully!\n",
      "Image: badges/Matplotlib.svg downloaded successfully!\n",
      "Image: badges/Plotly.svg downloaded successfully!\n",
      "Image: badges/SciPy.svg downloaded successfully!\n",
      "Image: badges/TensorFlow.svg downloaded successfully!\n",
      "Image: badges/Keras.svg downloaded successfully!\n",
      "Image: badges/PyTorch.svg downloaded successfully!\n",
      "Image: badges/scikit.svg downloaded successfully!\n",
      "Image: badges/opencv.svg downloaded successfully!\n",
      "Image: badges/RaspberryPi.svg downloaded successfully!\n",
      "Image: badges/html5.svg downloaded successfully!\n",
      "Image: badges/css3.svg downloaded successfully!\n",
      "Image: badges/bootstrap.svg downloaded successfully!\n",
      "Image: badges/django.svg downloaded successfully!\n",
      "Image: badges/flask.svg downloaded successfully!\n",
      "Image: badges/vuejs.svg downloaded successfully!\n",
      "Image: badges/react.svg downloaded successfully!\n",
      "Image: badges/chartjs.svg downloaded successfully!\n",
      "Image: badges/NPM.svg downloaded successfully!\n",
      "Image: badges/nodejs.svg downloaded successfully!\n",
      "Image: badges/docker.svg downloaded successfully!\n",
      "Image: badges/kubernetes.svg downloaded successfully!\n",
      "Image: badges/GoogleCloud.svg downloaded successfully!\n",
      "Image: badges/nginx.svg downloaded successfully!\n",
      "Image: badges/mysql.svg downloaded successfully!\n",
      "Image: badges/postgres.svg downloaded successfully!\n",
      "Image: badges/git.svg downloaded successfully!\n",
      "Image: badges/github.svg downloaded successfully!\n",
      "Image: badges/Solidity.svg downloaded successfully!\n",
      "Image: badges/web3js.svg downloaded successfully!\n",
      "Image: badges/Bitcoin.svg downloaded successfully!\n",
      "Image: badges/Ethereum.svg downloaded successfully!\n",
      "Image: badges/tether.svg downloaded successfully!\n",
      "Image: badges/linkedin.svg downloaded successfully!\n",
      "Image: badges/Telegram.svg downloaded successfully!\n",
      "Image: badges/Anaconda.svg downloaded successfully!\n",
      "Image: badges/jupyter.svg downloaded successfully!\n",
      "Image: badges/Notepad++.svg downloaded successfully!\n",
      "Image: badges/pycharm.svg downloaded successfully!\n",
      "Image: badges/RStudio.svg downloaded successfully!\n",
      "Image: badges/Replit.svg downloaded successfully!\n",
      "Image: badges/Notion.svg downloaded successfully!\n",
      "Image: badges/GeeksforGeeks.svg downloaded successfully!\n",
      "Image: badges/edX.svg downloaded successfully!\n",
      "Image: badges/google.svg downloaded successfully!\n",
      "Image: badges/gunicorn.svg downloaded successfully!\n",
      "Image: badges/latex.svg downloaded successfully!\n",
      "Image: badges/Linux.svg downloaded successfully!\n",
      "Image: badges/markdown.svg downloaded successfully!\n",
      "Image: badges/Ubuntu.svg downloaded successfully!\n",
      "Image: badges/Windows.svg downloaded successfully!\n"
     ]
    }
   ],
   "source": [
    "for url in to_download:\n",
    "    download_badges(url=url, folder='badges')"
   ]
  },
  {
   "cell_type": "markdown",
   "id": "6438f12a-742d-4aa7-a3b7-94a925d255b7",
   "metadata": {},
   "source": [
    "### Conclusion\n",
    "\n",
    "All the SVG badges from the external README have now been successfully downloaded and saved locally. This ensures that even if the external sources become unavailable in the future, the badges will remain accessible from within our repository."
   ]
  }
 ],
 "metadata": {
  "kernelspec": {
   "display_name": "Python 3 (ipykernel)",
   "language": "python",
   "name": "python3"
  },
  "language_info": {
   "codemirror_mode": {
    "name": "ipython",
    "version": 3
   },
   "file_extension": ".py",
   "mimetype": "text/x-python",
   "name": "python",
   "nbconvert_exporter": "python",
   "pygments_lexer": "ipython3",
   "version": "3.11.3"
  }
 },
 "nbformat": 4,
 "nbformat_minor": 5
}
